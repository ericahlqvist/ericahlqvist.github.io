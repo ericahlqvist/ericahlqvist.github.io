{
 "cells": [
  {
   "cell_type": "markdown",
   "metadata": {},
   "source": [
    "The following notebook provides some examples on how to use the CRIME and the COHOMOLO package in GAP in order to compute (part of) some cohomology rings $H^*(G, \\mathbb{F}_p)$, where $G$ is a $p$-group. "
   ]
  },
  {
   "cell_type": "markdown",
   "metadata": {},
   "source": [
    "For instructions on how to install GAP visit https://www.gap-system.org/Download/ (I used homebrew on my macbook).\n",
    "\n",
    "To get GAP into your jupyter notebook visit https://github.com/gap-packages/JupyterKernel\n"
   ]
  },
  {
   "cell_type": "markdown",
   "metadata": {},
   "source": [
    "First let us look at the dihedral group $D_8=\\langle s, r \\mid r^4=s^2=(sr)^2 =1\\rangle$ and the quaternion group ${Q} _{8}=\\langle a,b\\mid a^{4}=1,a^{2}=b^{2},ba=a^{-1}b\\rangle $."
   ]
  },
  {
   "cell_type": "code",
   "execution_count": 99,
   "metadata": {
    "vscode": {
     "languageId": "python"
    }
   },
   "outputs": [],
   "source": [
    "G:= DihedralGroup(8);; q8 := SmallGroup(8,4);;"
   ]
  },
  {
   "cell_type": "markdown",
   "metadata": {},
   "source": [
    "CRIME requires $G$ to be a permutation group"
   ]
  },
  {
   "cell_type": "code",
   "execution_count": 113,
   "metadata": {
    "vscode": {
     "languageId": "python"
    }
   },
   "outputs": [
    {
     "data": {
      "text/plain": [
       "8"
      ]
     },
     "execution_count": 113,
     "metadata": {
      "text/plain": ""
     },
     "output_type": "execute_result"
    }
   ],
   "source": [
    "G_perm:= Group((1,2,3,4), (1,2)(3,4));; q8_perm:= Group((1,2,4,7)(3,6,8,5), (1,3,4,8)(2,5,7,6));; Size(q8_perm);"
   ]
  },
  {
   "cell_type": "markdown",
   "metadata": {},
   "source": [
    "Next we will load the package CRIME which we will use to compute the cohomology ring $H^*(G, \\mathbb{F}_2)$ is degree 1 and 2."
   ]
  },
  {
   "cell_type": "code",
   "execution_count": 3,
   "metadata": {
    "vscode": {
     "languageId": "python"
    }
   },
   "outputs": [
    {
     "data": {
      "text/plain": [
       "true"
      ]
     },
     "execution_count": 2,
     "metadata": {
      "text/plain": ""
     },
     "output_type": "execute_result"
    },
    {
     "data": {
      "text/plain": [
       "true"
      ]
     },
     "execution_count": 3,
     "metadata": {
      "text/plain": ""
     },
     "output_type": "execute_result"
    }
   ],
   "source": [
    "LoadPackage(\"crime\"); LoadPackage(\"cohomolo\");"
   ]
  },
  {
   "cell_type": "code",
   "execution_count": 121,
   "metadata": {
    "vscode": {
     "languageId": "python"
    }
   },
   "outputs": [
    {
     "data": {
      "text/plain": [
       "true"
      ]
     },
     "execution_count": 118,
     "metadata": {
      "text/plain": ""
     },
     "output_type": "execute_result"
    }
   ],
   "source": [
    "# Create cohomology object\n",
    "\n",
    "C:= CohomologyObject(G);;\n",
    "C2:= CohomologyObject(q8);;\n",
    "\n",
    "e:=One(GF(2));;\n",
    "M := [[e]];; IsMatrix(M); \n",
    "mats := [M, M];;\n",
    "\n",
    "chr:=CHR(G_perm,2, 0, mats);;\n",
    "chr2:=CHR(q8_perm,2, 0, mats);;"
   ]
  },
  {
   "cell_type": "markdown",
   "metadata": {},
   "source": [
    "Let us look at the rank of the cohomology groups in degree 1 and 2:"
   ]
  },
  {
   "cell_type": "code",
   "execution_count": 124,
   "metadata": {
    "vscode": {
     "languageId": "python"
    }
   },
   "outputs": [
    {
     "data": {
      "text/plain": [
       "[ 2, 3 ]"
      ]
     },
     "execution_count": 123,
     "metadata": {
      "text/plain": ""
     },
     "output_type": "execute_result"
    },
    {
     "data": {
      "text/plain": [
       "[ 2, 2 ]"
      ]
     },
     "execution_count": 124,
     "metadata": {
      "text/plain": ""
     },
     "output_type": "execute_result"
    }
   ],
   "source": [
    "[FirstCohomologyDimension(chr), SecondCohomologyDimension(chr)];\n",
    "[FirstCohomologyDimension(chr2), SecondCohomologyDimension(chr2)];\n"
   ]
  },
  {
   "cell_type": "markdown",
   "metadata": {},
   "source": [
    "Let us now compute the generators and relations for the cohomology ring"
   ]
  },
  {
   "cell_type": "code",
   "execution_count": 46,
   "metadata": {
    "vscode": {
     "languageId": "python"
    }
   },
   "outputs": [
    {
     "data": {
      "text/plain": [
       "[ 1, 1, 2 ]"
      ]
     },
     "execution_count": 45,
     "metadata": {
      "text/plain": ""
     },
     "output_type": "execute_result"
    },
    {
     "data": {
      "text/plain": [
       "[ [ z, y, x ], [ z*y+y^2 ] ]"
      ]
     },
     "execution_count": 46,
     "metadata": {
      "text/plain": ""
     },
     "output_type": "execute_result"
    }
   ],
   "source": [
    "CohomologyGenerators(C,10); CohomologyRelators(C,10);"
   ]
  },
  {
   "cell_type": "markdown",
   "metadata": {},
   "source": [
    "Note that all cohomology groups are vector spaces over $\\mathbb{F}_p$ and hence determined up to isomorphism by their dimension. \n",
    "\n",
    "We see that $H^1(G, \\mathbb{F}_2)=\\langle y, x\\rangle\\cong \\mathbb{F}_2^2$ and $H^2(G, \\mathbb{F}_2)=\\langle x, y^2, z^2\\rangle \\cong \\mathbb{F}_2^3$ and the cup product satisfies $z*y+y^2=0$.  \n",
    "\n",
    "This looks correct since we expect that the minimal number of generators of $D_8$ is $\\text{dim}\\ H^1(D_8, \\mathbb{F}_2)=2$ and the minimal number of generating relations is $\\text{dim}\\ H^2(D_8, \\mathbb{F}_2)=3$. "
   ]
  },
  {
   "cell_type": "code",
   "execution_count": 108,
   "metadata": {
    "vscode": {
     "languageId": "python"
    }
   },
   "outputs": [
    {
     "data": {
      "text/plain": [
       "[ 1, 1, 4 ]"
      ]
     },
     "execution_count": 107,
     "metadata": {
      "text/plain": ""
     },
     "output_type": "execute_result"
    },
    {
     "data": {
      "text/plain": [
       "[ [ z, y, x ], [ z^2+z*y+y^2, y^3 ] ]"
      ]
     },
     "execution_count": 108,
     "metadata": {
      "text/plain": ""
     },
     "output_type": "execute_result"
    }
   ],
   "source": [
    "CohomologyGenerators(C2,10); CohomologyRelators(C2,10);"
   ]
  },
  {
   "cell_type": "code",
   "execution_count": null,
   "metadata": {
    "vscode": {
     "languageId": "python"
    }
   },
   "outputs": [],
   "source": []
  },
  {
   "cell_type": "markdown",
   "metadata": {},
   "source": [
    "This tells us that $Q_8$ only needs only two generating relations to generate all relations as a normal subgroup of the free group on $a$ and $b$. This follows since the normal closure of $\\langle a^2b^{-2}, abab^{-1}\\rangle$ inside the free group on $a$ and $b$ contains $a^4$.   "
   ]
  },
  {
   "cell_type": "code",
   "execution_count": 145,
   "metadata": {
    "vscode": {
     "languageId": "python"
    }
   },
   "outputs": [
    {
     "data": {
      "text/plain": [
       "2"
      ]
     },
     "execution_count": 145,
     "metadata": {
      "text/plain": ""
     },
     "output_type": "execute_result"
    }
   ],
   "source": [
    "D:=DerivedSubgroup(q8);; Size(D);"
   ]
  },
  {
   "cell_type": "code",
   "execution_count": 143,
   "metadata": {
    "vscode": {
     "languageId": "python"
    }
   },
   "outputs": [
    {
     "data": {
      "text/plain": [
       "2"
      ]
     },
     "execution_count": 143,
     "metadata": {
      "text/plain": ""
     },
     "output_type": "execute_result"
    }
   ],
   "source": [
    "D2:=DerivedSubgroup(q8);; Size(D2);"
   ]
  },
  {
   "cell_type": "markdown",
   "metadata": {},
   "source": [
    "What about the integral cohomology $H^*(G, \\mathbb{Z})$?"
   ]
  },
  {
   "cell_type": "code",
   "execution_count": 5,
   "metadata": {
    "vscode": {
     "languageId": "python"
    }
   },
   "outputs": [
    {
     "name": "stdout",
     "output_type": "stream",
     "text": [
      "#I  polymake command not found. Please set POLYMAKE_COMMAND by hand\n",
      "#I  HAP warning: Set DISPLAY_PATH manually if needed.\n",
      "#I  HAP warning: Set BROWSER_PATH manually if needed.\n"
     ]
    },
    {
     "data": {
      "text/plain": [
       "true"
      ]
     },
     "execution_count": 5,
     "metadata": {
      "text/plain": ""
     },
     "output_type": "execute_result"
    }
   ],
   "source": [
    "LoadPackage(\"hap\"); "
   ]
  },
  {
   "cell_type": "code",
   "execution_count": 30,
   "metadata": {
    "vscode": {
     "languageId": "python"
    }
   },
   "outputs": [
    {
     "data": {
      "text/plain": [
       "[  ]"
      ]
     },
     "execution_count": 30,
     "metadata": {
      "text/plain": ""
     },
     "output_type": "execute_result"
    }
   ],
   "source": [
    "GroupCohomology(QuaternionGroup(8),3);"
   ]
  },
  {
   "cell_type": "code",
   "execution_count": 35,
   "metadata": {
    "vscode": {
     "languageId": "python"
    }
   },
   "outputs": [
    {
     "data": {
      "text/plain": [
       "[ 2 ]"
      ]
     },
     "execution_count": 35,
     "metadata": {
      "text/plain": ""
     },
     "output_type": "execute_result"
    }
   ],
   "source": [
    "GroupCohomology(Group((1,2), (3,4)),3);"
   ]
  },
  {
   "cell_type": "code",
   "execution_count": 18,
   "metadata": {
    "vscode": {
     "languageId": "python"
    }
   },
   "outputs": [
    {
     "data": {
      "text/plain": [
       "4"
      ]
     },
     "execution_count": 18,
     "metadata": {
      "text/plain": ""
     },
     "output_type": "execute_result"
    }
   ],
   "source": [
    "Cx2:= Group((1,2), (3,4));; Size(Cx2);"
   ]
  },
  {
   "cell_type": "code",
   "execution_count": 23,
   "metadata": {
    "vscode": {
     "languageId": "python"
    }
   },
   "outputs": [
    {
     "data": {
      "text/plain": [
       "true"
      ]
     },
     "execution_count": 21,
     "metadata": {
      "text/plain": ""
     },
     "output_type": "execute_result"
    }
   ],
   "source": [
    "\n",
    "\n",
    "e:=One(GF(2));;\n",
    "M := [[e]];; IsMatrix(M); \n",
    "mats := [M, M];;\n",
    "\n",
    "chr:=CHR(Cx2,2, 0, mats);;"
   ]
  },
  {
   "cell_type": "code",
   "execution_count": 24,
   "metadata": {
    "vscode": {
     "languageId": "python"
    }
   },
   "outputs": [
    {
     "data": {
      "text/plain": [
       "[ 2, 3 ]"
      ]
     },
     "execution_count": 24,
     "metadata": {
      "text/plain": ""
     },
     "output_type": "execute_result"
    }
   ],
   "source": [
    "[FirstCohomologyDimension(chr), SecondCohomologyDimension(chr)];"
   ]
  },
  {
   "cell_type": "code",
   "execution_count": null,
   "metadata": {
    "vscode": {
     "languageId": "python"
    }
   },
   "outputs": [],
   "source": []
  }
 ],
 "metadata": {
  "kernelspec": {
   "display_name": "GAP 4",
   "language": "gap",
   "name": "gap-4"
  },
  "language_info": {
   "codemirror_mode": "gap",
   "file_extension": ".g",
   "mimetype": "text/x-gap",
   "name": "GAP 4",
   "nbconvert_exporter": "",
   "pygments_lexer": "gap",
   "version": "4.12.2"
  }
 },
 "nbformat": 4,
 "nbformat_minor": 2
}
